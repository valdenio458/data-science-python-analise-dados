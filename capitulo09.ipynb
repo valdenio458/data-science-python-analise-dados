{
  "nbformat": 4,
  "nbformat_minor": 0,
  "metadata": {
    "colab": {
      "provenance": [],
      "authorship_tag": "ABX9TyPMPtuElpwFZNK3izBhF5dD",
      "include_colab_link": true
    },
    "kernelspec": {
      "name": "python3",
      "display_name": "Python 3"
    },
    "language_info": {
      "name": "python"
    }
  },
  "cells": [
    {
      "cell_type": "markdown",
      "metadata": {
        "id": "view-in-github",
        "colab_type": "text"
      },
      "source": [
        "<a href=\"https://colab.research.google.com/github/valdenio458/data-science-python-analise-dados/blob/main/capitulo09.ipynb\" target=\"_parent\"><img src=\"https://colab.research.google.com/assets/colab-badge.svg\" alt=\"Open In Colab\"/></a>"
      ]
    },
    {
      "cell_type": "markdown",
      "source": [
        "# Manipulando Arquivos com Numpy"
      ],
      "metadata": {
        "id": "3k0P3crDSI7W"
      }
    },
    {
      "cell_type": "code",
      "source": [
        "import numpy as np"
      ],
      "metadata": {
        "id": "gy8kgTKgDy9Q"
      },
      "execution_count": null,
      "outputs": []
    },
    {
      "cell_type": "code",
      "execution_count": null,
      "metadata": {
        "id": "Sak5OlgoCfki"
      },
      "outputs": [],
      "source": [
        "import os\n",
        "filename = os.path.join('/content/dataset.csv')"
      ]
    },
    {
      "cell_type": "code",
      "source": [
        "!head /content/dataset.csv"
      ],
      "metadata": {
        "id": "tKAoRoOCDGiz"
      },
      "execution_count": null,
      "outputs": []
    },
    {
      "cell_type": "code",
      "source": [
        "# Carregando o dataset para dentro de um array\n",
        "arr13 = np.loadtxt(filename, delimiter = ',', usecols= (0,1,2,3), skiprows=1)\n",
        "arr13"
      ],
      "metadata": {
        "id": "I-vCZtcrD3eI"
      },
      "execution_count": null,
      "outputs": []
    },
    {
      "cell_type": "code",
      "source": [
        "# Carregando apenas duas variáveis (colunas) do dataset\n",
        "var1, var2 = np.loadtxt(filename, delimiter = ',', usecols= (0,1), skiprows=1, unpack=True)"
      ],
      "metadata": {
        "id": "RwgCykjvE99e"
      },
      "execution_count": null,
      "outputs": []
    },
    {
      "cell_type": "code",
      "source": [
        "# Gerando um plot a partir de um dataset usando o Numpy\n",
        "import matplotlib.pyplot as plt\n",
        "plt.show(plt.plot(var1,var2, 'o', markersize = 6, color = 'red'))"
      ],
      "metadata": {
        "id": "arW8MDq_Fn4P"
      },
      "execution_count": null,
      "outputs": []
    },
    {
      "cell_type": "markdown",
      "source": [
        "# Análise Estatística Básica com Numpy"
      ],
      "metadata": {
        "id": "ICNsBinVGnvZ"
      }
    },
    {
      "cell_type": "code",
      "source": [
        "# Criando um array\n",
        "arr14 = np.array([15, 23, 63, 94, 75])"
      ],
      "metadata": {
        "id": "Whem1ImoGyfO"
      },
      "execution_count": null,
      "outputs": []
    },
    {
      "cell_type": "code",
      "source": [
        "# Média\n",
        "np.mean(arr14)"
      ],
      "metadata": {
        "id": "3mOueQqmHMbH"
      },
      "execution_count": null,
      "outputs": []
    },
    {
      "cell_type": "code",
      "source": [
        "# Desvio Padrão (Standard Deviation)\n",
        "np.std(arr14)"
      ],
      "metadata": {
        "id": "h-_pIgNlH6Tt"
      },
      "execution_count": null,
      "outputs": []
    },
    {
      "cell_type": "code",
      "source": [
        "# Variância\n",
        "np.var(arr14)"
      ],
      "metadata": {
        "id": "kqp1ugU3JD3G"
      },
      "execution_count": null,
      "outputs": []
    },
    {
      "cell_type": "markdown",
      "source": [
        "# Operações Matemáticas com Arrays Numpy"
      ],
      "metadata": {
        "id": "dUrww__BJ1su"
      }
    },
    {
      "cell_type": "code",
      "source": [
        "arr15 = np.arange(1, 10)\n",
        "arr15"
      ],
      "metadata": {
        "id": "nPdRmb1kJ-PE"
      },
      "execution_count": null,
      "outputs": []
    },
    {
      "cell_type": "code",
      "source": [
        "# Soma dos elementos do array\n",
        "np.sum(arr15)"
      ],
      "metadata": {
        "id": "wGdw3CYsKJTX"
      },
      "execution_count": null,
      "outputs": []
    },
    {
      "cell_type": "code",
      "source": [
        "# Produto dos elementos do array\n",
        "np.prod(arr15)"
      ],
      "metadata": {
        "id": "Iug3OGaEKSzI"
      },
      "execution_count": null,
      "outputs": []
    },
    {
      "cell_type": "code",
      "source": [
        "# Soma acumulada dos elementos do array\n",
        "np.cumsum(arr15)"
      ],
      "metadata": {
        "id": "RmErig-5Ke9Z"
      },
      "execution_count": null,
      "outputs": []
    },
    {
      "cell_type": "code",
      "source": [
        "# Cria 2 arrays\n",
        "arr16 = np.array([3, 2, 1])\n",
        "arr17 = np.array([1, 2, 3])"
      ],
      "metadata": {
        "id": "jVMHQxKsK3ed"
      },
      "execution_count": null,
      "outputs": []
    },
    {
      "cell_type": "code",
      "source": [
        "# Soma dos arrays\n",
        "np.add(arr16, arr17)"
      ],
      "metadata": {
        "id": "ZKqDrGNiLE1b"
      },
      "execution_count": null,
      "outputs": []
    },
    {
      "cell_type": "code",
      "source": [
        "# Cria duas matrizes\n",
        "arr19 = np.array([[1, 2], [3, 4]])\n",
        "arr20 = np.array([[5, 6], [0, 7]])"
      ],
      "metadata": {
        "id": "CGIlgr9OMGpg"
      },
      "execution_count": null,
      "outputs": []
    },
    {
      "cell_type": "code",
      "source": [
        "# Para a multiplicação de matrizes possa ser executada, o número de colunas da primeira matriz\n",
        "# deve ser igual ao número de linhas da segunda matriz"
      ],
      "metadata": {
        "id": "qEMGPAzDMzCv"
      },
      "execution_count": null,
      "outputs": []
    },
    {
      "cell_type": "code",
      "source": [
        "arr19.shape"
      ],
      "metadata": {
        "id": "moeN37obMckI"
      },
      "execution_count": null,
      "outputs": []
    },
    {
      "cell_type": "code",
      "source": [
        "arr20.shape"
      ],
      "metadata": {
        "id": "l9eOD_cdMheM"
      },
      "execution_count": null,
      "outputs": []
    },
    {
      "cell_type": "code",
      "source": [
        "# Multiplicar as duas matrizes\n",
        "arr21 = np.dot(arr19, arr20)\n",
        "arr21"
      ],
      "metadata": {
        "id": "artNQqRpNOut"
      },
      "execution_count": null,
      "outputs": []
    },
    {
      "cell_type": "code",
      "source": [
        "# Outra opção para multiplicar duas matrizes\n",
        "arr19 @ arr20\n",
        "arr21"
      ],
      "metadata": {
        "id": "rc5iOJhdPtZc"
      },
      "execution_count": null,
      "outputs": []
    },
    {
      "cell_type": "markdown",
      "source": [
        "# Slicing (Fatiamento) de Arrays Numpy"
      ],
      "metadata": {
        "id": "ltvf2Cf3SZ6N"
      }
    },
    {
      "cell_type": "code",
      "source": [
        "# Cria um array\n",
        "arr22 = np.diag(np.arange(3))\n",
        "arr22"
      ],
      "metadata": {
        "colab": {
          "base_uri": "https://localhost:8080/"
        },
        "id": "Dey5pQJqShDe",
        "outputId": "f5b7d31b-4e59-4ca7-8789-27a04815eee6"
      },
      "execution_count": null,
      "outputs": [
        {
          "output_type": "execute_result",
          "data": {
            "text/plain": [
              "array([[0, 0, 0],\n",
              "       [0, 1, 0],\n",
              "       [0, 0, 2]])"
            ]
          },
          "metadata": {},
          "execution_count": 48
        }
      ]
    },
    {
      "cell_type": "code",
      "source": [
        "arr22[1, 1]"
      ],
      "metadata": {
        "id": "m_viE-4XTSaF"
      },
      "execution_count": null,
      "outputs": []
    },
    {
      "cell_type": "code",
      "source": [
        "arr22[1]"
      ],
      "metadata": {
        "id": "vOAEDD5zTkq9"
      },
      "execution_count": null,
      "outputs": []
    },
    {
      "cell_type": "code",
      "source": [
        "arr22[:,2]"
      ],
      "metadata": {
        "id": "ww7Hs-u5TuEF"
      },
      "execution_count": null,
      "outputs": []
    },
    {
      "cell_type": "code",
      "source": [
        "arr23 = np.arange(10)\n",
        "print(arr23)"
      ],
      "metadata": {
        "id": "wDISizViT8O-"
      },
      "execution_count": null,
      "outputs": []
    },
    {
      "cell_type": "code",
      "source": [
        "# [start:end:step]\n",
        "arr23[2:9:3]"
      ],
      "metadata": {
        "id": "KIifmIrVU1MP"
      },
      "execution_count": null,
      "outputs": []
    },
    {
      "cell_type": "code",
      "source": [
        "# Cria 2 arrays\n",
        "a = np.array([1, 2, 3, 4])\n",
        "b = np.array([4, 2, 2, 4])"
      ],
      "metadata": {
        "id": "691RGylFVRvy"
      },
      "execution_count": null,
      "outputs": []
    },
    {
      "cell_type": "code",
      "source": [
        "# Comparação item a item\n",
        "a == b"
      ],
      "metadata": {
        "colab": {
          "base_uri": "https://localhost:8080/"
        },
        "id": "rlT-6gh9Vd6L",
        "outputId": "39af1d0b-2bad-4dab-ea11-56cb430e5120"
      },
      "execution_count": null,
      "outputs": [
        {
          "output_type": "execute_result",
          "data": {
            "text/plain": [
              "array([False,  True, False,  True])"
            ]
          },
          "metadata": {},
          "execution_count": 60
        }
      ]
    },
    {
      "cell_type": "code",
      "source": [
        "# Comparação global\n",
        "np.array_equal(arr22, arr23)"
      ],
      "metadata": {
        "colab": {
          "base_uri": "https://localhost:8080/"
        },
        "id": "KJa4cZ0QVzca",
        "outputId": "5d681b8b-3a09-44ed-d334-db33d5c64c6e"
      },
      "execution_count": null,
      "outputs": [
        {
          "output_type": "execute_result",
          "data": {
            "text/plain": [
              "False"
            ]
          },
          "metadata": {},
          "execution_count": 61
        }
      ]
    },
    {
      "cell_type": "code",
      "source": [
        "# Retorna valor mínimo\n",
        "arr23.min()"
      ],
      "metadata": {
        "colab": {
          "base_uri": "https://localhost:8080/"
        },
        "id": "Dkn_OtLDWCkr",
        "outputId": "3ff61563-d5cd-4832-f4b9-770ed8298036"
      },
      "execution_count": null,
      "outputs": [
        {
          "output_type": "execute_result",
          "data": {
            "text/plain": [
              "0"
            ]
          },
          "metadata": {},
          "execution_count": 63
        }
      ]
    },
    {
      "cell_type": "code",
      "source": [
        "# Retorna valor máximo\n",
        "arr23.max()"
      ],
      "metadata": {
        "colab": {
          "base_uri": "https://localhost:8080/"
        },
        "id": "ZLGlpDUtWMDY",
        "outputId": "7efbfc88-996e-4043-830b-d45f9042cfdf"
      },
      "execution_count": null,
      "outputs": [
        {
          "output_type": "execute_result",
          "data": {
            "text/plain": [
              "9"
            ]
          },
          "metadata": {},
          "execution_count": 64
        }
      ]
    },
    {
      "cell_type": "code",
      "source": [
        "# Somando um valor a cada elemento do array\n",
        "np.array([1, 2, 3]) + 1.5"
      ],
      "metadata": {
        "colab": {
          "base_uri": "https://localhost:8080/"
        },
        "id": "tKzSLOGyWTVV",
        "outputId": "07725318-9ed1-4ac5-8845-993cc5bd8b5b"
      },
      "execution_count": null,
      "outputs": [
        {
          "output_type": "execute_result",
          "data": {
            "text/plain": [
              "array([2.5, 3.5, 4.5])"
            ]
          },
          "metadata": {},
          "execution_count": 65
        }
      ]
    },
    {
      "cell_type": "code",
      "source": [
        "# Cria um array\n",
        "arr24 = np.array([1.2, 1.5, 1.6, 2.5, 3.5, 4.5])"
      ],
      "metadata": {
        "id": "om53q7m1Wkzr"
      },
      "execution_count": null,
      "outputs": []
    },
    {
      "cell_type": "code",
      "source": [
        "# Usando p método around\n",
        "arr25 = np.around(arr24)\n",
        "print(arr25)"
      ],
      "metadata": {
        "colab": {
          "base_uri": "https://localhost:8080/"
        },
        "id": "pzktuDX3WxNX",
        "outputId": "c20276af-9473-4967-e8ec-26366e6a8a60"
      },
      "execution_count": null,
      "outputs": [
        {
          "output_type": "stream",
          "name": "stdout",
          "text": [
            "[1. 2. 2. 2. 4. 4.]\n"
          ]
        }
      ]
    },
    {
      "cell_type": "code",
      "source": [
        "# Criando um array\n",
        "arr26 = np.array([[1, 2, 3, 4], [5, 6, 7, 8]])\n",
        "print(arr26)"
      ],
      "metadata": {
        "colab": {
          "base_uri": "https://localhost:8080/"
        },
        "id": "aR8b9HGlXQjK",
        "outputId": "4a31af0a-8f8b-41ac-f429-6d9788b4bdef"
      },
      "execution_count": null,
      "outputs": [
        {
          "output_type": "stream",
          "name": "stdout",
          "text": [
            "[[1 2 3 4]\n",
            " [5 6 7 8]]\n"
          ]
        }
      ]
    },
    {
      "cell_type": "code",
      "source": [
        "# Achatando a matriz. Transforma a matriz (bidimensional) em um array (unidimensional)\n",
        "arr27 = arr26.flatten()\n",
        "print(arr27)"
      ],
      "metadata": {
        "colab": {
          "base_uri": "https://localhost:8080/"
        },
        "id": "FXCQGwoOXtcx",
        "outputId": "e6062f4b-fd62-4c65-d429-81ce5660a5b5"
      },
      "execution_count": null,
      "outputs": [
        {
          "output_type": "stream",
          "name": "stdout",
          "text": [
            "[1 2 3 4 5 6 7 8]\n"
          ]
        }
      ]
    },
    {
      "cell_type": "code",
      "source": [
        "# Criando um array\n",
        "arr28 = np.array([1, 2, 3])"
      ],
      "metadata": {
        "id": "nKN48VrhYvgp"
      },
      "execution_count": null,
      "outputs": []
    },
    {
      "cell_type": "code",
      "source": [
        "# Repetindo os elementos de um array\n",
        "np.repeat(arr28, 3)"
      ],
      "metadata": {
        "colab": {
          "base_uri": "https://localhost:8080/"
        },
        "id": "hNcLiqv5Y6eI",
        "outputId": "f0067037-3d07-406e-ba31-c444ae9d9f6a"
      },
      "execution_count": null,
      "outputs": [
        {
          "output_type": "execute_result",
          "data": {
            "text/plain": [
              "array([1, 1, 1, 2, 2, 2, 3, 3, 3])"
            ]
          },
          "metadata": {},
          "execution_count": 77
        }
      ]
    },
    {
      "cell_type": "code",
      "source": [
        "# Repetindo os elementos de um array\n",
        "np.tile(arr28, 3)"
      ],
      "metadata": {
        "colab": {
          "base_uri": "https://localhost:8080/"
        },
        "id": "Vv-Ou0GDZKYV",
        "outputId": "92b91c58-bce1-4ceb-d5fb-9b448158b608"
      },
      "execution_count": null,
      "outputs": [
        {
          "output_type": "execute_result",
          "data": {
            "text/plain": [
              "array([1, 2, 3, 1, 2, 3, 1, 2, 3])"
            ]
          },
          "metadata": {},
          "execution_count": 78
        }
      ]
    },
    {
      "cell_type": "code",
      "source": [
        "# Criando uma cópia do array\n",
        "arr29 = np.copy(arr28)\n",
        "print(arr29)"
      ],
      "metadata": {
        "colab": {
          "base_uri": "https://localhost:8080/"
        },
        "id": "jYnW_mnEZTNW",
        "outputId": "faf758b7-7e0b-4d04-f61a-378dbf5945bd"
      },
      "execution_count": null,
      "outputs": [
        {
          "output_type": "stream",
          "name": "stdout",
          "text": [
            "[1 2 3]\n"
          ]
        }
      ]
    }
  ]
}
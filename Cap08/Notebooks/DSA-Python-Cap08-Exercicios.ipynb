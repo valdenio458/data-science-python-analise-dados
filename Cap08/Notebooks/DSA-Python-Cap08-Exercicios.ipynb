{
 "cells": [
  {
   "cell_type": "markdown",
   "metadata": {},
   "source": [
    "# <font color='blue'>Data Science Academy</font>\n",
    "\n",
    "## <font color='blue'>Fundamentos de Linguagem Python Para Análise de Dados e Data Science</font>\n",
    "\n",
    "## <font color='blue'>Introdução à Programação Orientada a Objetos</font>"
   ]
  },
  {
   "cell_type": "code",
   "execution_count": 1,
   "metadata": {},
   "outputs": [
    {
     "name": "stdout",
     "output_type": "stream",
     "text": [
      "Versão da Linguagem Python Usada Neste Jupyter Notebook: 3.9.13\n"
     ]
    }
   ],
   "source": [
    "# Versão da Linguagem Python\n",
    "from platform import python_version\n",
    "print('Versão da Linguagem Python Usada Neste Jupyter Notebook:', python_version())"
   ]
  },
  {
   "cell_type": "markdown",
   "metadata": {},
   "source": [
    "## Exercícios"
   ]
  },
  {
   "cell_type": "code",
   "execution_count": 17,
   "metadata": {},
   "outputs": [
    {
     "data": {
      "text/plain": [
       "<bound method Rocket.print_rocket of <__main__.Rocket object at 0x7fc51aac14b0>>"
      ]
     },
     "execution_count": 17,
     "metadata": {},
     "output_type": "execute_result"
    }
   ],
   "source": [
    "# Exercício 1 - Crie um objeto a partir da classe abaixo, chamado roc1, \n",
    "# passando 2 parâmetros e depois faça uma chamada aos atributos e métodos\n",
    "from math import sqrt\n",
    "\n",
    "class Rocket():\n",
    "     \n",
    "    def __init__(self, x=0, y=0):\n",
    "        self.x = x\n",
    "        self.y = y\n",
    "        \n",
    "    def move_rocket(self, x_increment=0, y_increment=1):\n",
    "        self.x += x_increment\n",
    "        self.y += y_increment\n",
    "        \n",
    "    def print_rocket(self):\n",
    "        print(self.x, self.y)        \n",
    "    \n",
    "roc1 = Rocket(10, 34)\n",
    "roc1.x\n",
    "roc1.y\n",
    "roc1.print_rocket\n",
    "roc1.move_rocket(12,24)\n",
    "roc1.print_rocket"
   ]
  },
  {
   "cell_type": "code",
   "execution_count": 21,
   "metadata": {},
   "outputs": [
    {
     "data": {
      "text/plain": [
       "'João mora na cidade de BH e seu telefone é: 555-1234'"
      ]
     },
     "execution_count": 21,
     "metadata": {},
     "output_type": "execute_result"
    }
   ],
   "source": [
    "# Exercício 2 - Crie uma classe chamada Pessoa() com os atributos: nome, cidade, telefone e e-mail. Use pelo menos 2\n",
    "# métodos especiais na sua classe. Crie um objeto da sua classe e faça uma chamada a pelo menos um dos seus métodos\n",
    "# especiais.\n",
    "class Pessoa():\n",
    "    def __init__(self, nome, cidade, telefone, email):\n",
    "        self.nome = nome\n",
    "        self.cidade = cidade\n",
    "        self.telefone = telefone\n",
    "        self.email = email\n",
    "    \n",
    "    def dados(self):\n",
    "        return self.nome + \" mora na cidade de \" + self.cidade + \" e seu telefone é: \" + self.telefone\n",
    "    \n",
    "pessoa1 = Pessoa(\"João\",\"BH\",\"555-1234\", \"joao@gmail.com\")\n",
    "pessoa1.dados()"
   ]
  },
  {
   "cell_type": "code",
   "execution_count": 30,
   "metadata": {},
   "outputs": [
    {
     "name": "stdout",
     "output_type": "stream",
     "text": [
      "Pequeno LED 64GB\n",
      "None\n"
     ]
    }
   ],
   "source": [
    "# Exercício 3 - Crie a classe Smartphone com 2 atributos, tamanho e interface e crie a classe MP3Player com os \n",
    "# atributos capacidade. A classe MP3player deve herdar os atributos da classe Smartphone.\n",
    "class Smartphone():\n",
    "    def __init__(self, tamanho, interface):\n",
    "        self.tamanho = tamanho\n",
    "        self.interface = interface\n",
    "        \n",
    "class MP3Player(Smartphone):\n",
    "    \n",
    "    def __init__(self, capacidade, tamanho = 'Pequeno', interface = 'LED'):\n",
    "        self.capacidade = capacidade\n",
    "        Smartphone.__init__(self, tamanho, interface)\n",
    "        \n",
    "        \n",
    "    def mp3player(self):\n",
    "        print(self.tamanho, self.interface,self.capacidade)\n",
    "\n",
    "device1 = MP3Player('64GB')\n",
    "print(device1.mp3player())"
   ]
  },
  {
   "cell_type": "markdown",
   "metadata": {},
   "source": [
    "### FIM"
   ]
  },
  {
   "cell_type": "markdown",
   "metadata": {},
   "source": [
    "### Obrigado\n",
    "\n",
    "### Visite o Blog da Data Science Academy - <a href=\"http://blog.dsacademy.com.br\">Blog DSA</a>"
   ]
  }
 ],
 "metadata": {
  "kernelspec": {
   "display_name": "Python 3 (ipykernel)",
   "language": "python",
   "name": "python3"
  },
  "language_info": {
   "codemirror_mode": {
    "name": "ipython",
    "version": 3
   },
   "file_extension": ".py",
   "mimetype": "text/x-python",
   "name": "python",
   "nbconvert_exporter": "python",
   "pygments_lexer": "ipython3",
   "version": "3.10.12"
  }
 },
 "nbformat": 4,
 "nbformat_minor": 1
}
